{
  "nbformat": 4,
  "nbformat_minor": 0,
  "metadata": {
    "colab": {
      "name": "Functions.ipynb",
      "provenance": [],
      "collapsed_sections": [
        "OYVs5HgYD5Af"
      ],
      "authorship_tag": "ABX9TyNoJ3IH5qKRNm5W0lhs41u9",
      "include_colab_link": true
    },
    "kernelspec": {
      "name": "python3",
      "display_name": "Python 3"
    }
  },
  "cells": [
    {
      "cell_type": "markdown",
      "metadata": {
        "id": "view-in-github",
        "colab_type": "text"
      },
      "source": [
        "<a href=\"https://colab.research.google.com/github/antisium/XII/blob/anti-AS-patch-1/Functions.ipynb\" target=\"_parent\"><img src=\"https://colab.research.google.com/assets/colab-badge.svg\" alt=\"Open In Colab\"/></a>"
      ]
    },
    {
      "cell_type": "markdown",
      "metadata": {
        "id": "OYVs5HgYD5Af",
        "colab_type": "text"
      },
      "source": [
        "# OTQs\n",
        "MCQs\n",
        "\n",
        "\n",
        "---\n",
        "\n",
        "\n",
        "\n"
      ]
    },
    {
      "cell_type": "markdown",
      "metadata": {
        "id": "mAJ5jSAgBT6c",
        "colab_type": "text"
      },
      "source": [
        "1. What is the default return value for a function that does not return any value explicitly?\n",
        "\n",
        "  => Null"
      ]
    },
    {
      "cell_type": "markdown",
      "metadata": {
        "id": "uGwuGDuZBurp",
        "colab_type": "text"
      },
      "source": [
        "2. Which of the following items are present in the function header?\n",
        " \n",
        "  => Both function name and parameter list"
      ]
    },
    {
      "cell_type": "markdown",
      "metadata": {
        "id": "4YcbHJaKCL8j",
        "colab_type": "text"
      },
      "source": [
        "3. Which of the following keywords mark the beginning of the function block?\n",
        "  \n",
        "  => def"
      ]
    },
    {
      "cell_type": "markdown",
      "metadata": {
        "id": "CvGV5dO_CGhb",
        "colab_type": "text"
      },
      "source": [
        "4. What is the name given to that area of the memory, where the system stores the parameters and local variabes of a function call?\n",
        "\n",
        "  -> stack "
      ]
    },
    {
      "cell_type": "markdown",
      "metadata": {
        "id": "lEGmZPE6Cwss",
        "colab_type": "text"
      },
      "source": [
        "5. Pick one of the following statements to correctly complete the functin body in the given code snippet.\n",
        "\n",
        "    def f(number):\n",
        "  \n",
        "        #Missing function body\n",
        "\n",
        "    print(f(5))"
      ]
    },
    {
      "cell_type": "markdown",
      "metadata": {
        "id": "iLt0K04zDnUG",
        "colab_type": "text"
      },
      "source": [
        ""
      ]
    },
    {
      "cell_type": "markdown",
      "metadata": {
        "id": "bj6-LCjRDrFZ",
        "colab_type": "text"
      },
      "source": [
        "# <b><u> Assignment </b></u>\n"
      ]
    },
    {
      "cell_type": "markdown",
      "metadata": {
        "id": "n30SEQj9HSHp",
        "colab_type": "text"
      },
      "source": [
        "# Type A\n"
      ]
    },
    {
      "cell_type": "markdown",
      "metadata": {
        "id": "k-iNGXUpD0T0",
        "colab_type": "text"
      },
      "source": [
        "1. A program having functinos is considered better designed than a program without any functions. Why?\n"
      ]
    },
    {
      "cell_type": "markdown",
      "metadata": {
        "id": "XP96nFApEIrE",
        "colab_type": "text"
      },
      "source": [
        "2. What all information does a function header give you about the function?\n"
      ]
    },
    {
      "cell_type": "markdown",
      "metadata": {
        "id": "2lpIkkOtELOD",
        "colab_type": "text"
      },
      "source": [
        "3. What do you understand by flow of execution?"
      ]
    },
    {
      "cell_type": "markdown",
      "metadata": {
        "id": "ES__50q1EZjJ",
        "colab_type": "text"
      },
      "source": [
        "4. What are arguments? What are parameters? How are these two terms different yet related? Give example."
      ]
    },
    {
      "cell_type": "markdown",
      "metadata": {
        "id": "CZJ9vw9_Ejqk",
        "colab_type": "text"
      },
      "source": [
        "5. What is the default utility of:<br>\n",
        "i) default arguments <br>\n",
        "ii) keyword arguments?"
      ]
    },
    {
      "cell_type": "markdown",
      "metadata": {
        "id": "Ujx3C4N7E3xE",
        "colab_type": "text"
      },
      "source": [
        "6. Explain with a code example the usuage of default arguments and keyword arguments.\n"
      ]
    },
    {
      "cell_type": "markdown",
      "metadata": {
        "id": "UEdPwvJYFBdF",
        "colab_type": "text"
      },
      "source": [
        "7. Dezcribe the different styles of functions in python using examples."
      ]
    },
    {
      "cell_type": "markdown",
      "metadata": {
        "id": "nmX0YV3eFNEX",
        "colab_type": "text"
      },
      "source": [
        "8. Differentiate between fruitful functions and non-fruitful functions."
      ]
    },
    {
      "cell_type": "markdown",
      "metadata": {
        "id": "d78q0wkbFWG-",
        "colab_type": "text"
      },
      "source": [
        "9. Can a function return multiple values? How?"
      ]
    },
    {
      "cell_type": "markdown",
      "metadata": {
        "id": "4893A4zcFclz",
        "colab_type": "text"
      },
      "source": [
        "10. What is scope? What is the scope resolving rule of python?"
      ]
    },
    {
      "cell_type": "markdown",
      "metadata": {
        "id": "zq3V7NpTFivZ",
        "colab_type": "text"
      },
      "source": [
        "11. What is the difference between local and global variables?"
      ]
    },
    {
      "cell_type": "markdown",
      "metadata": {
        "id": "zW3Y98z2FoAH",
        "colab_type": "text"
      },
      "source": [
        "12. When is global statement used? Why is its use not recommended?"
      ]
    },
    {
      "cell_type": "markdown",
      "metadata": {
        "id": "3pQ50jigFxM0",
        "colab_type": "text"
      },
      "source": [
        "13. Write the term suitable for following descriptions: \n",
        "<br> a) A name inside the parentheses of a function header that can recieve a value\n",
        "<br> b) An argument passed to a specific parameter using the parameter name\n",
        "<br> c) A value passed to a function parameter\n",
        "<br> d) A value assigned to a parameter name in the function header\n",
        "<br> e) A value assigned to a parameter name in the function call\n",
        "<br> f) A name defined outside all function definitions\n",
        "<br> g) A varriable created inside a function body\n"
      ]
    },
    {
      "cell_type": "markdown",
      "metadata": {
        "id": "3WrpZHk3G8gn",
        "colab_type": "text"
      },
      "source": [
        "14. What do you understand by local and global scope of variables? How can you access a global variable inside the function, if the function has a variable with the same name."
      ]
    },
    {
      "cell_type": "code",
      "metadata": {
        "id": "9L-ldxXyBDt7",
        "colab_type": "code",
        "colab": {}
      },
      "source": [
        ""
      ],
      "execution_count": 0,
      "outputs": []
    },
    {
      "cell_type": "markdown",
      "metadata": {
        "id": "gYMIBh-mHgKa",
        "colab_type": "text"
      },
      "source": [
        "# Type B"
      ]
    },
    {
      "cell_type": "markdown",
      "metadata": {
        "id": "foKTnZ9OHkgX",
        "colab_type": "text"
      },
      "source": [
        "1. What are the errors in the following codes? Correct the code and predict the output.\n",
        "```\n",
        "total = 0;\n",
        "    def sum(arg1, arg2 ) :\n",
        "    total = arg1 + arg2;\n",
        "    print(\"Total :\", total)\n",
        "  return total;\n",
        "  sum( 10, 20 );\n",
        "  print(\"Total :\", total)\n",
        "```"
      ]
    },
    {
      "cell_type": "markdown",
      "metadata": {
        "id": "LDHUxzcAIbFH",
        "colab_type": "text"
      },
      "source": [
        "```\n",
        "def Tot(Number) # Method to find total\n",
        "    Sum = 0\n",
        "    for C in Range (1, Number + 1) :\n",
        "      Sum += C\n",
        "      RETURN Sum\n",
        "print (Tot[3])   #Function calls\n",
        "print (Tot[6])\n",
        "```"
      ]
    },
    {
      "cell_type": "markdown",
      "metadata": {
        "id": "0bu4mEmGJMRk",
        "colab_type": "text"
      },
      "source": [
        "2. Consider the following code and write the flow of execution for this. Line numbers have been given for your reference.\n",
        "```\n",
        "def power(b, p):\n",
        "    y = b ** p\n",
        "    return y\n",
        "\n",
        "def calcSquare(x):\n",
        "    a = power(x, 2)\n",
        "    return a\n",
        "\n",
        "n = 5\n",
        "result = calcSquare(n)\n",
        "print(result)\n",
        "```"
      ]
    },
    {
      "cell_type": "markdown",
      "metadata": {
        "id": "PZFGw6TkLNrg",
        "colab_type": "text"
      },
      "source": [
        "# Type C\n"
      ]
    },
    {
      "cell_type": "markdown",
      "metadata": {
        "id": "EbAkJZXNLQCO",
        "colab_type": "text"
      },
      "source": [
        "1. Write a function that takes amount-in-dollars and dollar-to-rupee conversion price; it then returns the amount converted to rupees. Create the function in both void and non-void forms."
      ]
    },
    {
      "cell_type": "code",
      "metadata": {
        "id": "Cywr2WvlLgMD",
        "colab_type": "code",
        "colab": {}
      },
      "source": [
        "def usd_inr_void(amt, conv):\n",
        "  print('Amount in rupees:', amt*conv)\n",
        "  return"
      ],
      "execution_count": 0,
      "outputs": []
    },
    {
      "cell_type": "code",
      "metadata": {
        "id": "7g5phX1sLvKT",
        "colab_type": "code",
        "colab": {}
      },
      "source": [
        "def usd_inr_notvoid(amt, conv):\n",
        "  amt_inr = amt * conv\n",
        "  return amt_inr"
      ],
      "execution_count": 0,
      "outputs": []
    },
    {
      "cell_type": "markdown",
      "metadata": {
        "id": "yXYVuedbL_QK",
        "colab_type": "text"
      },
      "source": [
        "2. Write a function to calculate volume of a box with appropriate default values for its parameters. Your function should have the following input parameters:\n",
        "<br> Length of box\n",
        "<br> Width of box\n",
        "<br> Height of box3\n",
        "<br> Test it by writing complete program to invoke it."
      ]
    }
  ]
}
