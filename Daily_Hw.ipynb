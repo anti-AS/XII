{
  "nbformat": 4,
  "nbformat_minor": 0,
  "metadata": {
    "colab": {
      "name": "Daily Hw.ipynb",
      "provenance": [],
      "collapsed_sections": [
        "i_xsYxv6Rif6",
        "RVHpMr7iRn2z",
        "fbDevnEBSTkg",
        "pv6QFHi9Sh2P",
        "oSF74by3S8Mz",
        "fZfQteKsTC-G",
        "zrDoSSlzTQB_",
        "dviRVtS2TWrj",
        "pjtHJZFRTefO",
        "kr7UTfwAZjM_",
        "dXULm1HyZtH1",
        "eSmpFco1Zzx_",
        "e9dXKs5eZ7U-",
        "NC0pLvmTaDDf",
        "nRec7mOhaN5l",
        "F8zC9Mb9aTqh",
        "CYqHNlT1aaus",
        "xv_kbEEPblA4",
        "CztUtv09bs_s",
        "384l1nDNb5RQ"
      ],
      "authorship_tag": "ABX9TyMd2gPQp3+SiZak+vnuHms5",
      "include_colab_link": true
    },
    "kernelspec": {
      "name": "python3",
      "display_name": "Python 3"
    }
  },
  "cells": [
    {
      "cell_type": "markdown",
      "metadata": {
        "id": "view-in-github",
        "colab_type": "text"
      },
      "source": [
        "<a href=\"https://colab.research.google.com/github/antisium/XII/blob/anti-AS-patch-1/Daily_Hw.ipynb\" target=\"_parent\"><img src=\"https://colab.research.google.com/assets/colab-badge.svg\" alt=\"Open In Colab\"/></a>"
      ]
    },
    {
      "cell_type": "markdown",
      "metadata": {
        "id": "i_xsYxv6Rif6",
        "colab_type": "text"
      },
      "source": [
        "##### prev ques\n"
      ]
    },
    {
      "cell_type": "code",
      "metadata": {
        "id": "u9VKSi5EQGBM",
        "colab_type": "code",
        "colab": {},
        "cellView": "both"
      },
      "source": [
        "# title prev ques\n",
        "\n",
        "# Daily HW\n",
        "# Date:9/4/2020\n",
        "\"\"\" Write down the output of the following: \"\"\"\n",
        "\n",
        "# fo = open(\"9-4.txt\",\"wt\")\n",
        "# fo.write(\"Hello world, how are you? Here, you are learning python\")\n",
        "# fo.close()\n",
        "# fo = open(\"9-4.txt\",\"r\")\n",
        "# print(\"Name of the File : \",fo.name)\n",
        "# str=fo.read(11)\n",
        "# print(\"Read String is till 10       : \",str)\n",
        "# pos= fo.tell()\n",
        "# print(\"Current Position             : \",pos)\n",
        "# str=fo.read(10)\n",
        "# print(\"Read String is till next 10  : \",str)\n",
        "# pos= fo.tell()\n",
        "# print(\"Current Position             : \",pos)\n",
        "# print()\n",
        "# print(\"Sending Pointer back to Top\")\n",
        "# pos = fo.seek(0,0)\n",
        "# print(\"Current Position             : \",pos)\n",
        "# str=fo.read(25)\n",
        "# print(\"Read String is till 25       : \",str)\n",
        "# pos= fo.tell()\n",
        "# print(\"Current Position             : \",pos)\n",
        "# fo.close()\n",
        "# print(\"File Closed  : \",fo.closed)\n",
        "\n",
        "# Output\n",
        "# Sending Pointer back to Top\n",
        "# Current Position             :  0\n",
        "# Read String is till 25       :  Hello world, how are you?\n",
        "# Current Position             :  25\n",
        "# File Closed  :  True\n",
        "\n",
        "\n",
        "# %%\n",
        "# Date:10/4/2020\n",
        "\"\"\" Explain the difference between absolute path and Relative path with example. \"\"\"\n",
        "\n",
        "# print('''Absolute Path:\n",
        "#         Path is given from the topmost level (parent directory) of the directory structure.\n",
        "#         Denoted by: .''')\n",
        "#\n",
        "# print('''Relative Path:\n",
        "#         Path is given relative to the current working directory.\n",
        "#         Denoted by: ..''')\n",
        "\n",
        "# %%\n",
        "# Date:11/4/2020\n",
        "\"\"\" Fill in the blanks #1,2,3 to read a line from keyboard(without input) and display on monitor(without print) \"\"\"\n",
        "# import sys\n",
        "#\n",
        "# a1 = sys.stdin.readline()                   #1\n",
        "# a2 = sys.stdin.readline()          #2\n",
        "# sys.stdout.write(a1+a2)               #3\n",
        "\n",
        "\n",
        "\"\"\" Answer in one  word:\n",
        "a.           Which function breaks the link of the file-object and the file on the disk.\n",
        "b.           ______ governs the type of operations performed on the opened file\n",
        "c.           sys.stdin  is always opened in ________mode  \"\"\"\n",
        "\n",
        "# print(\"A. - close()\")\n",
        "# print(\"B. - File Mode\")\n",
        "# print(\"C. - Read Mode\")\n",
        "\n",
        "\n",
        "# %%\n",
        "# Date:12/4/2020\n",
        "\"\"\"\n",
        "Write a function and program to call  FileRead(pass filename  as parameter) to read ,count and display  the  Uppercase ,Lowercase,Digits and  Special  characters count from the passed file.\n",
        "Example\n",
        "If file has following contents\n",
        "I\n",
        "ChanGed\n",
        "MY\n",
        "Password to\n",
        "‘INCORRECt1.2.3.4’\n",
        "\n",
        "Then output is:\n",
        "Uppercase Count: 14\n",
        "Lowercase Count: 15\n",
        "Digit Count: 4\n",
        "Special Character Count:11  \"\"\"\n",
        "\n",
        "# def FileRead(fname=''):\n",
        "#     c_upper = c_lower = c_digit = c_spec = 0\n",
        "#\n",
        "#     for part in fname:\n",
        "#         if part.isalpha():\n",
        "#             if part.isupper():\n",
        "#                 c_upper += 1\n",
        "#             if part.islower():\n",
        "#                 c_lower += 1\n",
        "#         elif part.isdigit():\n",
        "#             c_digit += 1\n",
        "#         else:\n",
        "#             c_spec += 1\n",
        "#\n",
        "#     print('Uppercase Count: ' + str(c_upper))\n",
        "#     print('Lowercase Count: ' + str(c_lower))\n",
        "#     print('Digit Count: ' + str(c_digit))\n",
        "#     print('Special Character Count: ' + str(c_spec))\n",
        "#\n",
        "# FileRead('I TRIED this out !?')"
      ],
      "execution_count": 0,
      "outputs": []
    },
    {
      "cell_type": "markdown",
      "metadata": {
        "id": "RVHpMr7iRn2z",
        "colab_type": "text"
      },
      "source": [
        "##### 13/4/2020"
      ]
    },
    {
      "cell_type": "code",
      "metadata": {
        "id": "5XmaM5U5QTji",
        "colab_type": "code",
        "colab": {}
      },
      "source": [
        "'''Write the commands to:\n",
        "1.Create a database student\n",
        "2.Create database student if it not exists\n",
        "3.Activate Database students.\n",
        "4. Display the name of activated database.\n",
        "5.Display the tables in database.\n",
        "6.remove database student from Memory.\n",
        "'''"
      ],
      "execution_count": 0,
      "outputs": []
    },
    {
      "cell_type": "markdown",
      "metadata": {
        "id": "fbDevnEBSTkg",
        "colab_type": "text"
      },
      "source": [
        "##### 14/4/2020\n"
      ]
    },
    {
      "cell_type": "code",
      "metadata": {
        "id": "35HgciAPSYlE",
        "colab_type": "code",
        "colab": {}
      },
      "source": [
        "'''Explain the following Terms with example:\n",
        "1.Tuple\n",
        "2.Attribute\n",
        "3.Degree \n",
        "4.Cardinality\n",
        "5. Difference and similarity between Primary Key and Unique constraint\n",
        "'''"
      ],
      "execution_count": 0,
      "outputs": []
    },
    {
      "cell_type": "markdown",
      "metadata": {
        "id": "pv6QFHi9Sh2P",
        "colab_type": "text"
      },
      "source": [
        "##### 15/4/2020\n"
      ]
    },
    {
      "cell_type": "code",
      "metadata": {
        "id": "KDwllcljSm6B",
        "colab_type": "code",
        "colab": {}
      },
      "source": [
        "'''Write down the use of select statement with all the clauses.'''"
      ],
      "execution_count": 0,
      "outputs": []
    },
    {
      "cell_type": "markdown",
      "metadata": {
        "id": "oSF74by3S8Mz",
        "colab_type": "text"
      },
      "source": [
        "##### 16/4/2020"
      ]
    },
    {
      "cell_type": "code",
      "metadata": {
        "id": "OvJ2UMdTS7zp",
        "colab_type": "code",
        "colab": {}
      },
      "source": [
        "'''Explain the Like operator with its wildcard characters.\n",
        "%      A%\n",
        "- \n",
        "A__\n",
        "'''"
      ],
      "execution_count": 0,
      "outputs": []
    },
    {
      "cell_type": "markdown",
      "metadata": {
        "id": "fZfQteKsTC-G",
        "colab_type": "text"
      },
      "source": [
        "##### 17/4/2020"
      ]
    },
    {
      "cell_type": "code",
      "metadata": {
        "id": "boxj5Y9RTGqc",
        "colab_type": "code",
        "colab": {}
      },
      "source": [
        "'''__drop   command removes a table from database.\n",
        "How None value is represented in MySQL? NULL\n",
        "Write two examples of RDBMS software. Mysql,sybase\n",
        "DDL stands for  Data Definition Language\n",
        "'''"
      ],
      "execution_count": 0,
      "outputs": []
    },
    {
      "cell_type": "markdown",
      "metadata": {
        "id": "zrDoSSlzTQB_",
        "colab_type": "text"
      },
      "source": [
        "##### 18/4/2020"
      ]
    },
    {
      "cell_type": "code",
      "metadata": {
        "id": "kbzTwgDyTTDP",
        "colab_type": "code",
        "colab": {}
      },
      "source": [
        "'''Write the other name for table. Relation'''"
      ],
      "execution_count": 0,
      "outputs": []
    },
    {
      "cell_type": "markdown",
      "metadata": {
        "id": "dviRVtS2TWrj",
        "colab_type": "text"
      },
      "source": [
        "#####19/4/2020"
      ]
    },
    {
      "cell_type": "code",
      "metadata": {
        "id": "QXPJkQ3RTY1f",
        "colab_type": "code",
        "colab": {}
      },
      "source": [
        "'''What is the need for FIELD function in order by clause?Give example.\n",
        "Customize sort.\n",
        "'''"
      ],
      "execution_count": 0,
      "outputs": []
    },
    {
      "cell_type": "markdown",
      "metadata": {
        "id": "pjtHJZFRTefO",
        "colab_type": "text"
      },
      "source": [
        "#####20/4/2020"
      ]
    },
    {
      "cell_type": "code",
      "metadata": {
        "id": "MIOOLo_fTh7-",
        "colab_type": "code",
        "colab": {}
      },
      "source": [
        "''''''"
      ],
      "execution_count": 0,
      "outputs": []
    },
    {
      "cell_type": "markdown",
      "metadata": {
        "id": "kr7UTfwAZjM_",
        "colab_type": "text"
      },
      "source": [
        "##### 21/4/2020\n"
      ]
    },
    {
      "cell_type": "code",
      "metadata": {
        "id": "F_Wvk1nSZp_r",
        "colab_type": "code",
        "colab": {}
      },
      "source": [
        "'''Explain different type of functions available in MySQL\n",
        "With two examples of each.\n",
        "'''"
      ],
      "execution_count": 0,
      "outputs": []
    },
    {
      "cell_type": "markdown",
      "metadata": {
        "id": "dXULm1HyZtH1",
        "colab_type": "text"
      },
      "source": [
        "#####22/4/2020\n"
      ]
    },
    {
      "cell_type": "code",
      "metadata": {
        "id": "L0unH5FxZvOv",
        "colab_type": "code",
        "colab": {}
      },
      "source": [
        "'''Ram has written following query to retrieve records of his friends(name starting with A) but its not giving any output.\n",
        "Write correct query and underline corrections\n",
        "Select * \t\n",
        "From friend \n",
        "Where name =’%A’\n",
        "And email=null;\n",
        "'''"
      ],
      "execution_count": 0,
      "outputs": []
    },
    {
      "cell_type": "markdown",
      "metadata": {
        "id": "eSmpFco1Zzx_",
        "colab_type": "text"
      },
      "source": [
        "#####23/4/2020"
      ]
    },
    {
      "cell_type": "code",
      "metadata": {
        "id": "8LPq21DuZ3FT",
        "colab_type": "code",
        "colab": {}
      },
      "source": [
        "'''Write down the differences and similarity between Equi join and Natural join with an example.'''"
      ],
      "execution_count": 0,
      "outputs": []
    },
    {
      "cell_type": "markdown",
      "metadata": {
        "id": "e9dXKs5eZ7U-",
        "colab_type": "text"
      },
      "source": [
        "##### 24/4/2020"
      ]
    },
    {
      "cell_type": "code",
      "metadata": {
        "id": "yG12gZfZZ9Gb",
        "colab_type": "code",
        "colab": {}
      },
      "source": [
        "'''Observe the following Tables and answer:\n",
        "| empno | ename | deptno | sal   |\n",
        "|   101 | A     |     10 | 10000 |\n",
        "|   102 | B     |     20 | 20000 |\n",
        "|   103 | C     |   NULL | 30000 |\n",
        "|   104 | D     |     10 |  5000 |\n",
        "|   105 | E     |     30 | 50000 |\n",
        " \t| deptno | dname | location |\n",
        "|     10 | FIN   | NM       |\n",
        "|     20 | MKT   | Delhi    |\n",
        "|     30 | Admin | NM       |\n",
        "|     40 | RES   | Jaipur   |\n",
        "|     50 | Sales | Jaipur   |\n",
        "\n",
        "1.What will be the output of the following query?Explain\n",
        "mysql> select ename,dname,deptno\n",
        "    -> from dept,emp\n",
        "    -> where emp.deptno=dept.deptno;\n",
        "'''"
      ],
      "execution_count": 0,
      "outputs": []
    },
    {
      "cell_type": "markdown",
      "metadata": {
        "id": "NC0pLvmTaDDf",
        "colab_type": "text"
      },
      "source": [
        "##### 25-28/4/2020"
      ]
    },
    {
      "cell_type": "code",
      "metadata": {
        "id": "Y9sWP77RaFWi",
        "colab_type": "code",
        "colab": {}
      },
      "source": [
        "'''What is cursor() function ?\n",
        "What is execute() function?\n",
        "What is fetchall() function ?\n",
        "What is the significant of commit() and close() function.\n",
        "'''"
      ],
      "execution_count": 0,
      "outputs": []
    },
    {
      "cell_type": "markdown",
      "metadata": {
        "id": "nRec7mOhaN5l",
        "colab_type": "text"
      },
      "source": [
        "##### 29/4/2020"
      ]
    },
    {
      "cell_type": "code",
      "metadata": {
        "id": "NG55AmbcaP18",
        "colab_type": "code",
        "colab": {}
      },
      "source": [
        "'''connect\n",
        "use existing database \n",
        "use table emp\n",
        "insert records\n",
        "display all records\n",
        "Display rowcount\n",
        "Display the total number of employees in each department\n",
        "Accept deptno and display salary \n",
        "accept salary in range 10000-50000 and display the name and salary\n",
        "accept empno and display details.\n",
        "accept deptno and update salary (increase +5000)\n",
        "accept empno and delete record\n",
        "'''"
      ],
      "execution_count": 0,
      "outputs": []
    },
    {
      "cell_type": "markdown",
      "metadata": {
        "id": "F8zC9Mb9aTqh",
        "colab_type": "text"
      },
      "source": [
        "##### 30/4/2020"
      ]
    },
    {
      "cell_type": "code",
      "metadata": {
        "id": "2dIVYfvMaWfE",
        "colab_type": "code",
        "colab": {}
      },
      "source": [
        "'''Find and write the output of the following python code: \n",
        "def  Change(P=10 ,Q=30):  \n",
        "               P=P+Q  \n",
        "               Q=P-Q  \n",
        "               print( P,\"#\",Q)  \n",
        "               return(P) \n",
        "R=150  \n",
        "S=100  \n",
        "S=Change(R,S)  \n",
        "Change(S) \n",
        "Change()\n",
        "'''"
      ],
      "execution_count": 0,
      "outputs": []
    },
    {
      "cell_type": "markdown",
      "metadata": {
        "id": "CYqHNlT1aaus",
        "colab_type": "text"
      },
      "source": [
        "##### 1/5/2020"
      ]
    },
    {
      "cell_type": "code",
      "metadata": {
        "id": "u-dX0W-Naea2",
        "colab_type": "code",
        "colab": {}
      },
      "source": [
        "'''Find and write the output of the following python code: \n",
        "a=10 \n",
        "def call(): \n",
        "     global a \n",
        "     a=15 \n",
        "     b=20 \n",
        "     print(a) \n",
        "call()\n",
        "'''"
      ],
      "execution_count": 0,
      "outputs": []
    },
    {
      "cell_type": "markdown",
      "metadata": {
        "id": "xv_kbEEPblA4",
        "colab_type": "text"
      },
      "source": [
        "##### 2-3/5/2020"
      ]
    },
    {
      "cell_type": "code",
      "metadata": {
        "id": "YPWSWYS7bnYl",
        "colab_type": "code",
        "colab": {}
      },
      "source": [
        "'''\n",
        "'''"
      ],
      "execution_count": 0,
      "outputs": []
    },
    {
      "cell_type": "markdown",
      "metadata": {
        "id": "CztUtv09bs_s",
        "colab_type": "text"
      },
      "source": [
        "#####12/5/2020"
      ]
    },
    {
      "cell_type": "code",
      "metadata": {
        "id": "h3SuefULbwqV",
        "colab_type": "code",
        "colab": {}
      },
      "source": [
        "'''Write a program to the following\n",
        "CREATE MENUS AND SUBMENUS FOR THE FOLLOWING:\n",
        "MENU\n",
        "1.\tCREATE A lIST OF INTEGER VALUES\n",
        "2.SORT BY BUBBLE SORT\n",
        "3.SORT BY INSERT SORT\n",
        "2.\tINSERT AT END\n",
        "3.\tINSERT AT POSITION\n",
        "4.\tLINEAR SERACH \n",
        "5.\tBINARY SEATCH\n",
        "6.\tBISECAT BINARY SEARCH\n",
        "7.\tDELETE BY VALUE\n",
        "8.\tDELETE BY INDEX\n",
        "CREATE FUNCTIONS TO IMPLEMENT MENU \n",
        "'''"
      ],
      "execution_count": 0,
      "outputs": []
    },
    {
      "cell_type": "markdown",
      "metadata": {
        "id": "384l1nDNb5RQ",
        "colab_type": "text"
      },
      "source": [
        "#### /5/2020"
      ]
    },
    {
      "cell_type": "code",
      "metadata": {
        "id": "xEUcuHMVb8Jp",
        "colab_type": "code",
        "colab": {}
      },
      "source": [
        "'''\n",
        "'''"
      ],
      "execution_count": 0,
      "outputs": []
    }
  ]
}