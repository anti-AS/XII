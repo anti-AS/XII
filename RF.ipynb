{
  "nbformat": 4,
  "nbformat_minor": 0,
  "metadata": {
    "colab": {
      "name": "RF.ipynb",
      "provenance": [],
      "collapsed_sections": [
        "SfYMeekidKyb",
        "rzi2QsuEdfu0",
        "FfkH_AmAd7q2",
        "fyNmBE50eCZj",
        "ihxQATmgeKEM",
        "xtMeXvcCeV6_",
        "fwsE-o0beV1c",
        "S7HnEQoXeVzU",
        "DyiSL_ireVuX",
        "zN_TDxOfeVsc",
        "GmPS7lgkeVpz",
        "gfC0uI3LeVoK",
        "o_vdAOkOeVkO",
        "Rnzl6f6CeVih",
        "X3G4EzhCeVe6",
        "D0_dEaSaeVdR",
        "xGUqXemzeVZq",
        "2aVuFSOdeVYM",
        "0SBtIQyVeVRB",
        "0-PQfxrEeU9c"
      ],
      "authorship_tag": "ABX9TyMFUPgg93BxLIvHLd/6gIrz",
      "include_colab_link": true
    },
    "kernelspec": {
      "name": "python3",
      "display_name": "Python 3"
    }
  },
  "cells": [
    {
      "cell_type": "markdown",
      "metadata": {
        "id": "view-in-github",
        "colab_type": "text"
      },
      "source": [
        "<a href=\"https://colab.research.google.com/github/antisium/XII/blob/anti-AS-patch-1/RF.ipynb\" target=\"_parent\"><img src=\"https://colab.research.google.com/assets/colab-badge.svg\" alt=\"Open In Colab\"/></a>"
      ]
    },
    {
      "cell_type": "markdown",
      "metadata": {
        "id": "SfYMeekidKyb",
        "colab_type": "text"
      },
      "source": [
        "##### prev ques"
      ]
    },
    {
      "cell_type": "code",
      "metadata": {
        "id": "YBG5yVDmcxm_",
        "colab_type": "code",
        "colab": {}
      },
      "source": [
        "#Note:\n",
        "#Add question\n",
        "#Add captions while displaying the output\n",
        "\n",
        "#1.\n",
        "#m = int(input('Enter 1st number (Divisible by):'))\n",
        "#n = int(input('Enter 2st number:'))\n",
        "##add caption\n",
        "#for i in range(2, n + 1):\n",
        "#   if i % m == 0:\n",
        "#       print(i)\n",
        "\n",
        "#2.\n",
        "#print('--')\n",
        "#s = input('Enter string:')\n",
        "#f = 1\n",
        "#\n",
        "#for i in range(len(s)):\n",
        "#   if s[i] in s[i + 1:]:\n",
        "#       f = 0\n",
        "#       break\n",
        "#else:\n",
        "#   print('Is unique.')\n",
        "#\n",
        "#if not f:\n",
        "#   print('Not unique')\n",
        "\n",
        "#3. #resolved - use loop for 5 students as well as for 3 subjects\n",
        "#print('--')\n",
        "#\n",
        "#std = (),\n",
        "#\n",
        "#for no in range(1,5+1):\n",
        "#    #Accepting input\n",
        "#    subs = tuple(eval(input('Enter student-' + str(no) + 'marks:')))\n",
        "#\n",
        "#    #Creating nested tuple\n",
        "#    std += (subs,)\n",
        "#else:\n",
        "#    print(\"Marks:\", std)\n",
        "#\n",
        "#Calculating total and avg marks per student\n",
        "#c = 0\n",
        "#for student in std:\n",
        "#   # Student no.\n",
        "#   c += 1\n",
        "#\n",
        "#   # Total calculation\n",
        "#   total = 0\n",
        "#   for marks in student:\n",
        "#       total += marks\n",
        "#\n",
        "#   # Avg calculation\n",
        "#   avg = total / 3\n",
        "#\n",
        "#   # Displaying results\n",
        "#   print(\"Total marks of student-\", c, \":\", total)\n",
        "#   print(\"Average marks of student-\", c, \":\", avg)\n",
        "#   print()\n",
        "\n",
        "#4.\n",
        "#print('--')\n",
        "##Resolved - Don't create new list as per question\n",
        "#ls = []\n",
        "#for no in range(1, 8+1):\n",
        "#   ls += [int(input('Enter number-' + str(no) + ':'))]\n",
        "#\n",
        "#for id in range(0, len(ls), 2):\n",
        "#   ls[id], ls[id+1] = ls[id+1], ls[id]\n",
        "#else:\n",
        "#   print('Original list:', ls)\n",
        "#   print('New list:', ls)\n",
        "\n",
        "\n",
        "\n",
        "# 5. #Resolved - Read the question properly first create dictionary of all alphabets\n",
        "#Then display the output as displayed in the question. Dont use json\n",
        "#Method1\n",
        "#print('--')\n",
        "#from json import * # not required\n",
        "#\n",
        "#st_org = input('Enter a string in lowercase: ')\n",
        "#\n",
        "#st_dict = {}\n",
        "#\n",
        "#for chara in st_org:\n",
        "#   st_dict[chara] = chr(122 - (ord(chara) - ord('a')))\n",
        "#else:\n",
        "#   print(dumps(st_dict, indent=2))\n",
        "\n",
        "#5. Method2\n",
        "#print('--')\n",
        "#\n",
        "#st_org = input('Enter a string in lowercase: ')\n",
        "#\n",
        "#st_dict = {}\n",
        "#\n",
        "#for num in range(26):\n",
        "#   print(chr(num) + '--' + chr(ord('z') - ord('a') - num))\n",
        "#else:\n",
        "#   print('Final Dictionary:', st_dict)\n",
        "#   print('Result:',st_dict[st_org])\n",
        "\n",
        "\n",
        "\n",
        "# 6 Resolved -  use range /loop\n",
        "# Numbers Generator\n",
        "# def mid4(x,y):\n",
        "#   dif = abs(y-x)\n",
        "#   t1 = x\n",
        "#   t4 = y\n",
        "#\n",
        "#   t2,t3 such that t2-t1 = t4-t3\n",
        "#   req_dif = dif/3\n",
        "#   t2 = t1 + req_dif\n",
        "#   t3 = t4 - req_dif\n",
        "#\n",
        "#   print(t1, t2, t3, t4)\n",
        "# mid4(5, 18)\n",
        "\n",
        "# Method - 2\n",
        "#def generate(x,y):\n",
        "#    step = (y-x) // 4\n",
        "#\n",
        "#    for i in range(4):\n",
        "#\n",
        "#        print(x+i*step)\n",
        "#\n",
        "#generate(10,55)\n",
        "#\n",
        "# 7.Function with default arguments\n",
        "#import random\n",
        "#\n",
        "#\n",
        "#def rndm(n = 3):\n",
        "#   print(random.randint(10**(n-1), int('9' * n)))  # good\n",
        "#\n",
        "#\n",
        "#rndm(5)\n",
        "#\n",
        "\n",
        "# 8.Sum of series using functions\n",
        "#def fact(n1):\n",
        "#    p = 1\n",
        "#    for i in range(1, n1 + 1):\n",
        "#        p *= i\n",
        "#    return p\n",
        "#\n",
        "#\n",
        "#def pwr(base, pr):\n",
        "#    exp = base ** pr\n",
        "#    return exp\n",
        "#\n",
        "#\n",
        "#def sum_exp(x, nosterm):\n",
        "#    sum_total = 0\n",
        "#    for t in range(1, nosterm + 1):\n",
        "#        num = pwr(x, t)\n",
        "#        den = fact(t)\n",
        "#        term = num / den\n",
        "#        sum_total += term\n",
        "#\n",
        "#    return sum_total\n",
        "#\n",
        "\n",
        "# 9.Temperature Analysis\n",
        "#def create():\n",
        "#    d = {}\n",
        "#    global d\n",
        "#    for week_no in [1,2,3,4]:\n",
        "#        print('Enter temperatures for week-' + str(week_no))\n",
        "#        d[week_no] = []\n",
        "#\n",
        "#        for day_no in range(1, 8):\n",
        "#            curr_temp = int(input('Enter for day ' + str(day_no) + ':'))\n",
        "#            if curr_temp:\n",
        "#                d[week_no] += [curr_temp]\n",
        "#            else:\n",
        "#                d[week_no] += [0]\n",
        "#\n",
        "#\n",
        "#def check():\n",
        "#    min_temp = max_temp = d[1][0]\n",
        "#    for week_no in [1,2,3,4]:\n",
        "#        sum = 0\n",
        "#        for temp in d[week_no]:\n",
        "#            sum += temp\n",
        "#            if temp > max_temp:\n",
        "#                max_temp = temp\n",
        "#            if temp < min_temp:\n",
        "#                min_temp = temp\n",
        "#        else:\n",
        "#            print('Average temperature of week-' + week_no + (sum//7))\n",
        "#\n",
        "#    else:\n",
        "#        print('Maximum temperature of the month:', max_temp)\n",
        "#        print('Minimum temperature of the month:', min_temp)\n",
        "#\n",
        "#\n",
        "#"
      ],
      "execution_count": 0,
      "outputs": []
    },
    {
      "cell_type": "markdown",
      "metadata": {
        "id": "rzi2QsuEdfu0",
        "colab_type": "text"
      },
      "source": [
        "##### 10. "
      ]
    },
    {
      "cell_type": "code",
      "metadata": {
        "id": "OAyPkz4Xd3db",
        "colab_type": "code",
        "colab": {}
      },
      "source": [
        "'''Write a method in Python to create a text file ‘notes’ .\n",
        "Read the file and count ‘.’ and ‘,’ (as separate counts).  Display the contents of original file and count .\n",
        "INDEX: Working on individual characters in a textfile\n",
        "'''"
      ],
      "execution_count": 0,
      "outputs": []
    },
    {
      "cell_type": "markdown",
      "metadata": {
        "id": "FfkH_AmAd7q2",
        "colab_type": "text"
      },
      "source": [
        "#####11.\n"
      ]
    },
    {
      "cell_type": "code",
      "metadata": {
        "id": "GQl7Jua_d48j",
        "colab_type": "code",
        "colab": {}
      },
      "source": [
        "'''A file ‘sports’ contains information in following format :\n",
        "Event  participant.(in notepad with a single space separating both).\n",
        "Write a method that would read the contents and creates a file named ‘athletics’, copying only those records from sports where the event name is ‘athletics’.\n",
        "INDEX: Conditional copy of a text file.\n",
        "'''"
      ],
      "execution_count": 0,
      "outputs": []
    },
    {
      "cell_type": "markdown",
      "metadata": {
        "id": "fyNmBE50eCZj",
        "colab_type": "text"
      },
      "source": [
        "#####12."
      ]
    },
    {
      "cell_type": "code",
      "metadata": {
        "id": "F0NBbSuyd89c",
        "colab_type": "code",
        "colab": {}
      },
      "source": [
        "'''Write a method to create a textfile ‘original’ with 5 lines in it. Copy all the contents of the original file into another file called ‘copy’ , by removing all the lines that contain alphabet ‘a’ in it.\n",
        "INDEX: Copying from a textfile after modification.\n",
        "'''"
      ],
      "execution_count": 0,
      "outputs": []
    },
    {
      "cell_type": "markdown",
      "metadata": {
        "id": "ihxQATmgeKEM",
        "colab_type": "text"
      },
      "source": [
        "#####13."
      ]
    },
    {
      "cell_type": "code",
      "metadata": {
        "id": "HFtMGyoseKoz",
        "colab_type": "code",
        "colab": {}
      },
      "source": [
        "'''Write a method to read characters from the keyboard one by one. Write all lowercase alphabets get  in a file ‘lower’, all upper case alphabets in a file ‘upper’ and all other characters in ‘others’. Display the contents of all the three files.\n",
        "INDEX: Multiple file handling.\n",
        "'''"
      ],
      "execution_count": 0,
      "outputs": []
    },
    {
      "cell_type": "markdown",
      "metadata": {
        "id": "xtMeXvcCeV6_",
        "colab_type": "text"
      },
      "source": [
        "#####14.\n"
      ]
    },
    {
      "cell_type": "code",
      "metadata": {
        "id": "fcrHOdg-eyKj",
        "colab_type": "code",
        "colab": {}
      },
      "source": [
        "'''Create a textfile with 5 lines in it. Read the textfile line by line and display each word separated by ‘#’\n",
        "INDEX: Working with lines and words.\n",
        "'''"
      ],
      "execution_count": 0,
      "outputs": []
    },
    {
      "cell_type": "markdown",
      "metadata": {
        "id": "fwsE-o0beV1c",
        "colab_type": "text"
      },
      "source": [
        "#####15."
      ]
    },
    {
      "cell_type": "code",
      "metadata": {
        "id": "ew7r37Dve2zD",
        "colab_type": "code",
        "colab": {}
      },
      "source": [
        "'''Write a program that takes a user id and password from the user and appends it to a file ‘security’, provided the given userid does not exist in the file. If it does , then display error message “ User id already exists” and prompts the user to reenter the userid. Also make sure that the password is atleast 8 characters long, has a digit and a special character (only $ , @, %) in it.\n",
        "INDEX: Password generator.\n",
        "Output: \n",
        "Enter UserId:ash\n",
        "UserId already exists. \n",
        "Enter UserId:hov \n",
        "\n",
        "\n",
        "Enter Password  :abcd\n",
        "Password must be of more than 8 characters. \n",
        "Enter password: abcdefgh  \n",
        "Error!Must contain digit. \n",
        "Enter Password: abcdefg1\n",
        "Error!Must contain special characters. \n",
        "Enter Password:abcdef@1 \n",
        "'''"
      ],
      "execution_count": 0,
      "outputs": []
    },
    {
      "cell_type": "markdown",
      "metadata": {
        "id": "S7HnEQoXeVzU",
        "colab_type": "text"
      },
      "source": [
        "#####16."
      ]
    },
    {
      "cell_type": "code",
      "metadata": {
        "id": "3Pr2VOa7e9HN",
        "colab_type": "code",
        "colab": {}
      },
      "source": [
        "'''Create a textfile having 10 email address in it. Each address is stored in a separate line. Find out the most common domain name present in the file and display it.\n",
        "Note: The username comes first, followed by an at (@) symbol, followed by the domain name.\n",
        "INDEX: Searching a textfile.\n",
        "'''"
      ],
      "execution_count": 0,
      "outputs": []
    },
    {
      "cell_type": "markdown",
      "metadata": {
        "id": "DyiSL_ireVuX",
        "colab_type": "text"
      },
      "source": [
        "#####17."
      ]
    },
    {
      "cell_type": "code",
      "metadata": {
        "id": "XbukyWl3fC1B",
        "colab_type": "code",
        "colab": {}
      },
      "source": [
        "'''WAP to work with a binary file. The file contains the records of the student having the following format.\n",
        "       Sno, Name  and marks (taken as a list) \n",
        "Write a menu driven program to do the following.\n",
        "a. Add a record\n",
        "b. Display all records\n",
        "c. Accept  Sno and modify the marks of that student\n",
        "d. Accept  Sno and modify the name of that student.\n",
        "INDEX: Binary file handling.\t\n",
        "(Note : Updation is done on the original file\n",
        "'''"
      ],
      "execution_count": 0,
      "outputs": []
    },
    {
      "cell_type": "markdown",
      "metadata": {
        "id": "zN_TDxOfeVsc",
        "colab_type": "text"
      },
      "source": [
        "#####18."
      ]
    },
    {
      "cell_type": "code",
      "metadata": {
        "id": "DmJhT1bofOr6",
        "colab_type": "code",
        "colab": {}
      },
      "source": [
        "'''WAP to work with a CSV file. The file contains the records of the student having the following format.\n",
        "     Rno, Name  and marks (taken as a list) \n",
        "    Write a menu driven program to do the following.\n",
        "a. Add a  single record\n",
        "b.Add a  multiple record in one GO\n",
        "c. Display all records \n",
        "INDEX: CSV  file handling.\n",
        "'''"
      ],
      "execution_count": 0,
      "outputs": []
    },
    {
      "cell_type": "markdown",
      "metadata": {
        "id": "GmPS7lgkeVpz",
        "colab_type": "text"
      },
      "source": [
        "#####19."
      ]
    },
    {
      "cell_type": "code",
      "metadata": {
        "id": "f69fxPhAfQNV",
        "colab_type": "code",
        "colab": {}
      },
      "source": [
        "'''1.Create Database CS12B2021.\n",
        "2. Activate CS12B2021.\n",
        "3. Create table employee with following fields and constraints\n",
        "eno int pk\n",
        "ename varchar(20) not null\n",
        "sal decimal(10,2) can be >=5000 and <=100000\n",
        "comm decimal(10,2)\n",
        "deptno int can be 10,50,80\n",
        "job varchar(10) can be Mgr,Clerk,Fin,Mkt\n",
        "doj date\n",
        "Insert 5 records\n",
        "\n",
        "Write the following queries\n",
        "1. Display all the records.\n",
        "2. Display Structure of Table.\n",
        "3.  Delete the records where job is Clerk.\n",
        "4. Update all the records by increasing salary by 10%.\n",
        "5. Update the job of empno 1 to mkt.\n",
        "6. Modify the comm of employees in FIN job to 1000.\n",
        "7. Change the deptno to 50 and job as MKT for the employees where comm is null\n",
        "  Index: create Table Employee with constraints and use of DML commands \n",
        "'''"
      ],
      "execution_count": 0,
      "outputs": []
    },
    {
      "cell_type": "markdown",
      "metadata": {
        "id": "gfC0uI3LeVoK",
        "colab_type": "text"
      },
      "source": [
        "#####20."
      ]
    },
    {
      "cell_type": "code",
      "metadata": {
        "id": "lk9bK9XafVkw",
        "colab_type": "code",
        "colab": {}
      },
      "source": [
        "'''Consider the following table named “GYM” with details about Fitness products being sold in the store.                                     Table Name : GYM \n",
        " \n",
        "prcode int Primary Key , prname varchar(20) , Price int , manufacturer varchar(20) \n",
        "\n",
        "Insert 6 records ( Note the records must cater to all requirements of the queries given below)\n",
        "  \n",
        "Write SQL statements to do the following: \n",
        "\n",
        "a) Display the names and  price of all the products in the store \n",
        "b) Display the names of all the products with price less than Rs.20000.00 \n",
        "c) Display details of all the products with price in the range 20000 to 30000 \n",
        "d) Display names of all products by the select manufacturer “Fit Express” \n",
        "e) Add a new row for product with the details: \n",
        "             “P106”,“Vibro Exerciser”, 23000, manufacturer : null. \n",
        "f) Change the price  of all the records by applying a 10% discount reduction on all the products. \n",
        "g) Display details of all products with manufacturer name starting with “A” \n",
        "h) Display details of all products with manufacturer name not ending with “s” \n",
        "i) Display all rows sorted in descending order of price. \n",
        "j)Display the name and price where manufacturer is null \n",
        "k) Display the name and price where manufacturer is not null\n",
        "  l) Display manufacturer, whose name has 10 characters \n",
        "m) Display manufacturer, whose name not starting with A alphabet. \n",
        "n) Display the price of items where manufacturer is Avon fitness . Give an alias name to price as “unit price of the product”. Arrange data in descending order of  price. \n",
        "o) Display the report in following format for all the records: \n",
        "Example Product Name:Cross trainer is manufactured by Avon Fitness and it costs Rs. 25000/-from gym .’’’\n",
        "P) display product name where manufacturer details are not entered.\n",
        "Q) display product name  and manufacturer details for all products with manufacturer details.\n",
        "Index: Create Table GYM and select statement with different operators\n",
        "'''"
      ],
      "execution_count": 0,
      "outputs": []
    },
    {
      "cell_type": "markdown",
      "metadata": {
        "id": "o_vdAOkOeVkO",
        "colab_type": "text"
      },
      "source": [
        "#####21."
      ]
    },
    {
      "cell_type": "code",
      "metadata": {
        "id": "_Z_8yquxfcD3",
        "colab_type": "code",
        "colab": {}
      },
      "source": [
        "'''Create table member \n",
        "mid varchar(5), \n",
        "fname varchar(10) \n",
        "contractduration char(1) \n",
        "Do the following after creating above table: \n",
        "1. add primary key to mid column \n",
        "2. add not null to fname column \n",
        "3. add new columns as lname,caddress \n",
        "4. change the size of fname column to varchar(20) \n",
        "5. change the datatype of contractduration column to int \n",
        "6. change the name of contractduration to condur \n",
        "7. change the order of column lname after fname. \n",
        "8. drop the column caddress \n",
        "9. drop the primary key of the table.\n",
        "Index: create Table Member and use of DDL (ALTER)command with its clauses\n",
        "'''"
      ],
      "execution_count": 0,
      "outputs": []
    },
    {
      "cell_type": "markdown",
      "metadata": {
        "id": "Rnzl6f6CeVih",
        "colab_type": "text"
      },
      "source": [
        "#####22.\n"
      ]
    },
    {
      "cell_type": "code",
      "metadata": {
        "id": "YmFa4EIPfhm-",
        "colab_type": "code",
        "colab": {}
      },
      "source": [
        "'''Write SQL query for the following: \n",
        "Table name : shoes\n",
        " Attributes : code-Primary key, type  can be school,office,sports\n",
        " \n",
        "Insert following records:\n",
        "   1. Display the type, minimum, maximum and average margin of each type of shoes. \n",
        "2. Display type and total quantity of each type of shoes. Arrange it by descending order of total quantity . \n",
        "3. Display type and total quantity of each type of shoes. And display only those type where total qty is more than 1500. \n",
        "4. Display type and total quantity of each type of shoes and display only those type where average size is  greater than 5.5. \n",
        "5. Display type and total quantity of each type of shoes where size is not equal to 6 and  total quantity is greater than 1500. \n",
        "6. Display the type, size, total count from shoes for each type and with that each size.\n",
        " (group by multiple columns) \n",
        "7. Display the total stock value(cost*qty) of each type of shoes. Arrange it in ascending order of total stock value . Give alias name as ‘Total stock value’.\n",
        "8. Display the count of total number of different types of shoes available in shoes table.\n",
        " \n",
        "Index: Group by, having and aggregate functions \n",
        "'''"
      ],
      "execution_count": 0,
      "outputs": []
    },
    {
      "cell_type": "markdown",
      "metadata": {
        "id": "X3G4EzhCeVe6",
        "colab_type": "text"
      },
      "source": [
        "#####23."
      ]
    },
    {
      "cell_type": "code",
      "metadata": {
        "id": "-lMbmYwzfr4l",
        "colab_type": "code",
        "colab": {}
      },
      "source": [
        "'''Create tables(Emp and Dept) with following constraints AND insert 5 records in emp table and dept table.\n",
        "Table emp \n",
        "empno int Primary key \n",
        "ename char(20)\n",
        "deptno int foreign key \n",
        "sal  int\n",
        "Table dept \n",
        "deptno int primary key \n",
        "dname char(10)    \n",
        "location  char(30)\n",
        "\n",
        "Insert following Records:\n",
        "EMP\n",
        "+-----+-------+------+----------+\n",
        "| eno | ename | dno  | sal  \t|\n",
        "+-----+-------+------+----------+\n",
        "| 101 | A \t|   10 | 10000.00 |\n",
        "| 102 | B \t|   20 | 20000.00 |\n",
        "| 103 | C \t| NULL | 30000.00 |\n",
        "| 104 | D \t|   10 |  5000.00 |\n",
        "| 105 | E \t|   30 | 50000.00 \n",
        "          DEPT\n",
        "+-----+-------+--------+\n",
        "| dno | dname | loc    |\n",
        "+-----+-------+--------+\n",
        "|  10 | FIN   | NM     |\n",
        "|  20 | mkt   | delhi  |\n",
        "|  30 | admin | nm \t|\n",
        "|  40 | RES   | Jaipur |\n",
        "|  50 | Sales | Jaipur |\n",
        "\n",
        "\n",
        "\n",
        "Write SQL commands to:\n",
        "1. Display the Cartesian  product of both the tables. \n",
        "2. Display ename,dname and dno . \n",
        "3. Display ename,dno,location where sal is between 1000 and 40000 \n",
        "4. Display ename,dname and dno where sal is >30000 and location is “Navi Mumbai”. \n",
        "5. Display ename,dno,location where sal is between 1000 and 40000.Arrange sal in descending order. \n",
        "6. Display ename,dname and dno where sal is <= 30000 and location is “delhi” and dept is 10 or 20. \n",
        "7. Display all details from both the tables using natural join .\n",
        "8. Create a new table employee from the existing table emp . \n",
        "9. Display all the constraints of table emp .\n",
        "10. Display the details of emp table and dname from both tables using equi join.\n",
        "11.Display the Employee name and Salary of all the employees in jaipur.(use Subquery)\n",
        "\n",
        "12. Write down the output of the following:\n",
        "select dname,count(*)\n",
        "from emp,dept\n",
        " where dept.deptno=emp.deptno\n",
        " group by emp.deptno;\n",
        "\n",
        "Index: Retrieve data using joins-Equi,Natural and Cartesian join\n",
        "'''"
      ],
      "execution_count": 0,
      "outputs": []
    },
    {
      "cell_type": "markdown",
      "metadata": {
        "id": "D0_dEaSaeVdR",
        "colab_type": "text"
      },
      "source": [
        "#####24."
      ]
    },
    {
      "cell_type": "code",
      "metadata": {
        "id": "WoSbwJ4SfyV-",
        "colab_type": "code",
        "colab": {}
      },
      "source": [
        "'''Index: QUIZ : PYTHON and MySQL connectivity\n",
        "Write a program to do the following (Note: Use Python to write all sql commands )\n",
        "1.\tCreate a function quizstructure() to:\n",
        " Connect Python and MYSQL \n",
        "            Show all the database\n",
        "  Create database Quiz \n",
        "   Activate database quiz \n",
        "Display all he tables in quiz database\n",
        "\n",
        "Create table Qrecords with following fields and constraint\n",
        "  Qno int Primary key \n",
        " Ques varchar2(100) not null \n",
        "Type varchar2(20) can be GK,Maths,CS \n",
        "Opt1 varchar2(30) not null \n",
        "Opt2 varchar2(30) not null \n",
        "Opt3 varchar2(30) not null \n",
        "Opt4 varchar2(30) not null \n",
        "Ans varchar2(30) not null\n",
        "Points int\n",
        "2.\tAdd(): To Add questions in the program. Ask user how many questions to enter and insert records \n",
        "3.\tDisplay(): Display all the data in the Qrecords  table .\n",
        "4.\tQno_search() : Accept qno from user and display qno ,question and answer for the entered qno\n",
        "5.\tType_search() : Accept type from user and display qno ,question and answer for the type entered. \n",
        "6.\tUpdate() :Accept qno from user and update the question,options,ans\n",
        "7.\tDelete(): Accept the qno and delete the records \n",
        "\n",
        "Play():  Ask the user how many times he wants to play. Run a loop. Randomly select questions from the question table and accept answer from user. If the given answer is correct display “CORRECT ANSWER” otherwise display “WRONG – CORRECT ANSWER IS - “(correct answer) \n",
        "At the end display total score (each correct answer is +10 and each wrong answer is -5)\n",
        "8.\tWrite a menu to call the functions as per the users choice. Use a while loop. Stop the loop when user enters choice as 8.\n",
        "                                                   Menu\n",
        "1.\tAdd questions.\n",
        "2.\tDisplay all the questions.\n",
        "3.\tSearch question based on question number\n",
        "4.\tSearch question based on type\n",
        "5.\tUpdate a question\n",
        "6.\tDelete a question\n",
        "7.\tPlay Game\n",
        "8.\tExit\n",
        "Index: MYSQL and PYTHON Interface: Quiz Application\n",
        "'''"
      ],
      "execution_count": 0,
      "outputs": []
    },
    {
      "cell_type": "markdown",
      "metadata": {
        "id": "xGUqXemzeVZq",
        "colab_type": "text"
      },
      "source": [
        "#####25."
      ]
    },
    {
      "cell_type": "code",
      "metadata": {
        "id": "KnvvuoHgf3hb",
        "colab_type": "code",
        "colab": {}
      },
      "source": [
        "'''Index: DATA STRUCTURE:LIST\n",
        "\n",
        "Write a menu driven program to do the following in a numerical list.\n",
        "MAIN MENU\t\n",
        "1. Accept a list\n",
        "2. Display the list\n",
        "3. Sort the list in descending order\n",
        "4. Insert an element\n",
        "5. Delete an element\n",
        "6. Search for an element\n",
        "7. Exit\n",
        "Note:\n",
        "1. Write functions for all options except option 7\n",
        "2. Insertion sort to be used for option 3\n",
        "3. Bisect method SHOULD NOT BE USED for option 4\n",
        "4. Binary search to be used for option 6\n",
        "'''"
      ],
      "execution_count": 0,
      "outputs": []
    },
    {
      "cell_type": "markdown",
      "metadata": {
        "id": "2aVuFSOdeVYM",
        "colab_type": "text"
      },
      "source": [
        "#####26."
      ]
    },
    {
      "cell_type": "code",
      "metadata": {
        "id": "Yq0Vkb3hf7Va",
        "colab_type": "code",
        "colab": {}
      },
      "source": [
        "'''Index:Program using comprehension list\n",
        " \n",
        "Output – [1,2,3,5,8,13]\n",
        "'''"
      ],
      "execution_count": 0,
      "outputs": []
    },
    {
      "cell_type": "markdown",
      "metadata": {
        "id": "0SBtIQyVeVRB",
        "colab_type": "text"
      },
      "source": [
        "#####27."
      ]
    },
    {
      "cell_type": "code",
      "metadata": {
        "id": "sKTaBetEgAMn",
        "colab_type": "code",
        "colab": {}
      },
      "source": [
        "'''Index:Data Structure: STACK\n",
        "\n",
        "Write a menu driven program for stacks with the following options. The stack will hold alphabets:\n",
        "1.Push                                                            [pushes one alphabet at a time]\n",
        "2.Pop\n",
        "3.Peek\n",
        "4.Display                                                       [displays each alphabet twice]\n",
        "5.Exit\n",
        "Ex: If the stack has [ ‘g’ , ‘a’, ‘m’, ‘e’ ]   then the display function should display\n",
        "ee mm aa gg\n",
        "'''"
      ],
      "execution_count": 0,
      "outputs": []
    },
    {
      "cell_type": "markdown",
      "metadata": {
        "id": "0-PQfxrEeU9c",
        "colab_type": "text"
      },
      "source": [
        "#####28."
      ]
    },
    {
      "cell_type": "code",
      "metadata": {
        "id": "i4UUKs0bgECP",
        "colab_type": "code",
        "colab": {}
      },
      "source": [
        "'''Write a menu driven program for queue with the following options: \n",
        "Implement 3 queues namely HIGHPR , NORMALPR , LOWPR.(AS PER THE PRIORITY)\n",
        "1.Insert an element(Enqueue)\n",
        "2. Search for an element\n",
        "3. Change priority\n",
        "4. Display list\n",
        "5.Exit\n",
        "For option 1:\n",
        "The program accepts  an element along  with its priority from the user e.g:\n",
        "Enter element : Ab123\n",
        "Enter Priority(H/N/L) : N\n",
        "As per the priority the element is inserted in the respective queue\n",
        "For option 2: \n",
        "Ask for the element and search for it in all the three queues. If found display its queue name otherwise display not found.\n",
        "For option 3:\n",
        "Ask for an element and its priority. Also ask the user for its new priority . If the element is found remove it from the existing list and append it to the list as per the new priority.\n",
        "For option 4:\n",
        "Display all the three lists.\n",
        "'''"
      ],
      "execution_count": 0,
      "outputs": []
    }
  ]
}